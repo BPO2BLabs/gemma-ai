{
  "nbformat": 4,
  "nbformat_minor": 0,
  "metadata": {
    "colab": {
      "provenance": []
    },
    "kernelspec": {
      "name": "python3",
      "display_name": "Python 3"
    },
    "language_info": {
      "name": "python"
    }
  },
  "cells": [
    {
      "cell_type": "code",
      "execution_count": 3,
      "metadata": {
        "id": "ATgVlJnB-LAb"
      },
      "outputs": [],
      "source": [
        "[![Open In Colab](https://colab.research.google.com/assets/colab-badge.svg)](https://colab.research.google.com/github/BPO2BLabs/gemma-ai/blob/main/Whisper_Transcription_%2B_NeMo_Diarization.ipynb) \n",
        "import requests\n",
        "\n",
        "# For local streaming, the websockets are hosted without ssl - http://\n",
        "#HOST = 'localhost:5000'\n",
        "#URI = f'http://{HOST}/api/v1/generate'\n",
        "\n",
        "# For reverse-proxied streaming, the remote will likely host with ssl - https://\n",
        "URI = 'https://governance-assembly-hop-vacancies.trycloudflare.com/api/v1/generate'\n",
        "\n",
        "\n",
        "def run(prompt):\n",
        "    request = {\n",
        "        'prompt': prompt,\n",
        "        'max_new_tokens': 500,\n",
        "        'auto_max_new_tokens': False,\n",
        "        'max_tokens_second': 0,\n",
        "\n",
        "        # Generation params. If 'preset' is set to different than 'None', the values\n",
        "        # in presets/preset-name.yaml are used instead of the individual numbers.\n",
        "        'preset': 'None',\n",
        "        'do_sample': True,\n",
        "        'temperature': 0.7,\n",
        "        'top_p': 0.1,\n",
        "        'typical_p': 1,\n",
        "        'epsilon_cutoff': 0,  # In units of 1e-4\n",
        "        'eta_cutoff': 0,  # In units of 1e-4\n",
        "        'tfs': 1,\n",
        "        'top_a': 0,\n",
        "        'repetition_penalty': 1.18,\n",
        "        'repetition_penalty_range': 0,\n",
        "        'top_k': 40,\n",
        "        'min_length': 0,\n",
        "        'no_repeat_ngram_size': 0,\n",
        "        'num_beams': 1,\n",
        "        'penalty_alpha': 0,\n",
        "        'length_penalty': 1,\n",
        "        'early_stopping': False,\n",
        "        'mirostat_mode': 0,\n",
        "        'mirostat_tau': 5,\n",
        "        'mirostat_eta': 0.1,\n",
        "        'grammar_string': '',\n",
        "        'guidance_scale': 1,\n",
        "        'negative_prompt': '',\n",
        "\n",
        "        'seed': -1,\n",
        "        'add_bos_token': True,\n",
        "        'truncation_length': 2048,\n",
        "        'ban_eos_token': False,\n",
        "        'custom_token_bans': '',\n",
        "        'skip_special_tokens': True,\n",
        "        'stopping_strings': []\n",
        "    }\n",
        "\n",
        "    response = requests.post(URI, json=request)\n",
        "    print(response.status_code)\n",
        "    if response.status_code == 200:\n",
        "        result = response.json()['results'][0]['text']\n",
        "        print(prompt + result)\n",
        "\n",
        "\n"
      ]
    },
    {
      "cell_type": "code",
      "source": [
        "prompt = '[How much is the following texts realted to an opening line of an agent call, give only a numerical score for each between 1 and 10] -> \"hi, Mr. Robinson, I hate you are calling, we are very busy call later, I know I am the receptionist but this is no time to call, is very late\" \"The pizza is so good my hands are trembling, I just want to eat a slice\" \"Nothing better that a couple of friends and a good barbeque\" \"Hi Ms Samantha, how can I help you? We are receiving another call, but yours is priority\" \"Hi thank you for calling, whats your order Mr Brut?\" -> \"hi, Mr. Robinson, I hate you are calling, we are very busy call later, I know I am the receptionist but this is no time to call, is very late\" \"The pizza is so good my hands are trembling, I just want to eat a slice\" \"Nothing better that a couple of friends and a good barbeque\" \"Hi Ms Samantha, how can I help you? We are receiving another call, but yours is priority\" \"Hi thank you for calling, whats your order Mr Brut?\"'\n",
        "run(prompt)"
      ],
      "metadata": {
        "colab": {
          "base_uri": "https://localhost:8080/"
        },
        "id": "SpwfvArK-PiJ",
        "outputId": "6126b05d-dae1-415c-8119-e653440f5fe4"
      },
      "execution_count": 4,
      "outputs": [
        {
          "output_type": "stream",
          "name": "stdout",
          "text": [
            "200\n",
            "[How much is the following texts realted to an opening line of an agent call, give only a numerical score for each between 1 and 10] -> \"hi, Mr. Robinson, I hate you are calling, we are very busy call later, I know I am the receptionist but this is no time to call, is very late\" \"The pizza is so good my hands are trembling, I just want to eat a slice\" \"Nothing better that a couple of friends and a good barbeque\" \"Hi Ms Samantha, how can I help you? We are receiving another call, but yours is priority\" \"Hi thank you for calling, whats your order Mr Brut?\" -> \"hi, Mr. Robinson, I hate you are calling, we are very busy call later, I know I am the receptionist but this is no time to call, is very late\" \"The pizza is so good my hands are trembling, I just want to eat a slice\" \"Nothing better that a couple of friends and a good barbeque\" \"Hi Ms Samantha, how can I help you? We are receiving another call, but yours is priority\" \"Hi thank you for calling, whats your order Mr Brut?\"\n",
            "\n",
            "Here's my ratings:\n",
            "\n",
            "1. \"hi, Mr. Robinson, I hate you are calling, we are very busy call later, I know I am the receptionist but this is no time to call, is very late\" - 8/10 (related to an opening line of an agent call because it shows frustration and urgency)\n",
            "2. \"The pizza is so good my hands are trembling, I just want to eat a slice\" - 2/10 (not related to an opening line of an agent call)\n",
            "3. \"Nothing better than a couple of friends and a good barbecue\" - 4/10 (somewhat related to an opening line of an agent call, but could be interpreted as a personal preference rather than a specific request or issue)\n",
            "4. \"Hi Ms Samantha, how can I help you? We are receiving another call, but yours is priority\" - 6/10 (related to an opening line of an agent call because it acknowledges the caller and prioritizes their needs)\n",
            "5. \"Hi thank you for calling, what's your order Mr. Brut?\" - 9/10 (very related to an opening line of an agent call because it directly asks for the customer's order)\n"
          ]
        }
      ]
    },
    {
      "cell_type": "code",
      "source": [],
      "metadata": {
        "id": "imspX1wb-fWQ"
      },
      "execution_count": null,
      "outputs": []
    }
  ]
}
